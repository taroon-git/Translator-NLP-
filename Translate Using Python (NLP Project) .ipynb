{
 "cells": [
  {
   "cell_type": "code",
   "execution_count": null,
   "id": "73044d69",
   "metadata": {},
   "outputs": [],
   "source": [
    "import pandas as pd\n",
    "from googletrans import Translator"
   ]
  },
  {
   "cell_type": "code",
   "execution_count": null,
   "id": "5872d2aa",
   "metadata": {},
   "outputs": [],
   "source": [
    "pip install googletrans==4.0.0-rc1\n"
   ]
  },
  {
   "cell_type": "code",
   "execution_count": null,
   "id": "838733b5",
   "metadata": {},
   "outputs": [],
   "source": [
    "data = pd.read_csv(\"translate.csv\")\n",
    "print(data)"
   ]
  },
  {
   "cell_type": "code",
   "execution_count": null,
   "id": "4308d23c",
   "metadata": {},
   "outputs": [],
   "source": [
    "translator = Translator()\n",
    "translations = {}\n",
    "for column in data.columns:\n",
    "    unique = data[column].unique()\n",
    "    for element in unique:\n",
    "        translations[element] = translator.translate(element).text\n",
    "for i in translations.items():\n",
    "    print(i)"
   ]
  },
  {
   "cell_type": "code",
   "execution_count": null,
   "id": "63707c2f",
   "metadata": {},
   "outputs": [],
   "source": [
    "## Converted into a dataframe\n",
    "data.replace(translations, inplace=True)\n",
    "print(data)"
   ]
  },
  {
   "cell_type": "code",
   "execution_count": null,
   "id": "19b87402",
   "metadata": {},
   "outputs": [],
   "source": []
  },
  {
   "cell_type": "code",
   "execution_count": null,
   "id": "b0d2d654",
   "metadata": {},
   "outputs": [],
   "source": []
  },
  {
   "cell_type": "code",
   "execution_count": null,
   "id": "8fe1f190",
   "metadata": {},
   "outputs": [],
   "source": []
  }
 ],
 "metadata": {
  "kernelspec": {
   "display_name": "Python 3 (ipykernel)",
   "language": "python",
   "name": "python3"
  },
  "language_info": {
   "codemirror_mode": {
    "name": "ipython",
    "version": 3
   },
   "file_extension": ".py",
   "mimetype": "text/x-python",
   "name": "python",
   "nbconvert_exporter": "python",
   "pygments_lexer": "ipython3",
   "version": "3.11.3"
  }
 },
 "nbformat": 4,
 "nbformat_minor": 5
}
